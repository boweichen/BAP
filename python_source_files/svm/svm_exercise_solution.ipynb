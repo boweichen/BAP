{
 "cells": [
  {
   "cell_type": "markdown",
   "metadata": {
    "slideshow": {
     "slide_type": "slide"
    }
   },
   "source": [
    "# Support Vector Machines | Exercise Solution"
   ]
  },
  {
   "cell_type": "code",
   "execution_count": 1,
   "metadata": {},
   "outputs": [
    {
     "data": {
      "text/html": [
       "<div>\n",
       "<style scoped>\n",
       "    .dataframe tbody tr th:only-of-type {\n",
       "        vertical-align: middle;\n",
       "    }\n",
       "\n",
       "    .dataframe tbody tr th {\n",
       "        vertical-align: top;\n",
       "    }\n",
       "\n",
       "    .dataframe thead th {\n",
       "        text-align: right;\n",
       "    }\n",
       "</style>\n",
       "<table border=\"1\" class=\"dataframe\">\n",
       "  <thead>\n",
       "    <tr style=\"text-align: right;\">\n",
       "      <th></th>\n",
       "      <th>Price</th>\n",
       "      <th>Size</th>\n",
       "      <th>Bedroom</th>\n",
       "      <th>Bathroom</th>\n",
       "      <th>Floor</th>\n",
       "      <th>Car_Parking</th>\n",
       "      <th>Internet</th>\n",
       "      <th>Location</th>\n",
       "      <th>Pet</th>\n",
       "      <th>Event</th>\n",
       "    </tr>\n",
       "  </thead>\n",
       "  <tbody>\n",
       "    <tr>\n",
       "      <th>0</th>\n",
       "      <td>420.0</td>\n",
       "      <td>292.5</td>\n",
       "      <td>3</td>\n",
       "      <td>1</td>\n",
       "      <td>2</td>\n",
       "      <td>Yes</td>\n",
       "      <td>No</td>\n",
       "      <td>Area_2</td>\n",
       "      <td>No</td>\n",
       "      <td>Spa</td>\n",
       "    </tr>\n",
       "    <tr>\n",
       "      <th>1</th>\n",
       "      <td>660.0</td>\n",
       "      <td>208.0</td>\n",
       "      <td>3</td>\n",
       "      <td>1</td>\n",
       "      <td>1</td>\n",
       "      <td>Yes</td>\n",
       "      <td>No</td>\n",
       "      <td>Area_1</td>\n",
       "      <td>No</td>\n",
       "      <td>Spa</td>\n",
       "    </tr>\n",
       "    <tr>\n",
       "      <th>2</th>\n",
       "      <td>660.0</td>\n",
       "      <td>194.0</td>\n",
       "      <td>3</td>\n",
       "      <td>2</td>\n",
       "      <td>2</td>\n",
       "      <td>Yes</td>\n",
       "      <td>No</td>\n",
       "      <td>Area_3</td>\n",
       "      <td>No</td>\n",
       "      <td>Spa</td>\n",
       "    </tr>\n",
       "    <tr>\n",
       "      <th>3</th>\n",
       "      <td>838.0</td>\n",
       "      <td>240.0</td>\n",
       "      <td>3</td>\n",
       "      <td>1</td>\n",
       "      <td>1</td>\n",
       "      <td>Yes</td>\n",
       "      <td>No</td>\n",
       "      <td>Area_1</td>\n",
       "      <td>No</td>\n",
       "      <td>Spa</td>\n",
       "    </tr>\n",
       "    <tr>\n",
       "      <th>4</th>\n",
       "      <td>900.0</td>\n",
       "      <td>360.0</td>\n",
       "      <td>3</td>\n",
       "      <td>2</td>\n",
       "      <td>1</td>\n",
       "      <td>Yes</td>\n",
       "      <td>No</td>\n",
       "      <td>Area_4</td>\n",
       "      <td>No</td>\n",
       "      <td>Spa</td>\n",
       "    </tr>\n",
       "  </tbody>\n",
       "</table>\n",
       "</div>"
      ],
      "text/plain": [
       "   Price   Size  Bedroom  Bathroom  Floor Car_Parking Internet Location Pet  \\\n",
       "0  420.0  292.5        3         1      2         Yes       No   Area_2  No   \n",
       "1  660.0  208.0        3         1      1         Yes       No   Area_1  No   \n",
       "2  660.0  194.0        3         2      2         Yes       No   Area_3  No   \n",
       "3  838.0  240.0        3         1      1         Yes       No   Area_1  No   \n",
       "4  900.0  360.0        3         2      1         Yes       No   Area_4  No   \n",
       "\n",
       "  Event  \n",
       "0   Spa  \n",
       "1   Spa  \n",
       "2   Spa  \n",
       "3   Spa  \n",
       "4   Spa  "
      ]
     },
     "execution_count": 1,
     "metadata": {},
     "output_type": "execute_result"
    }
   ],
   "source": [
    "import pandas as pd\n",
    "\n",
    "df = pd.read_csv(\"data/holiday_rental_consumer_segmentation.csv\")\n",
    "df.head()"
   ]
  },
  {
   "cell_type": "code",
   "execution_count": 2,
   "metadata": {
    "scrolled": true
   },
   "outputs": [
    {
     "name": "stdout",
     "output_type": "stream",
     "text": [
      "<class 'pandas.core.frame.DataFrame'>\n",
      "RangeIndex: 191 entries, 0 to 190\n",
      "Data columns (total 10 columns):\n",
      " #   Column       Non-Null Count  Dtype  \n",
      "---  ------       --------------  -----  \n",
      " 0   Price        191 non-null    float64\n",
      " 1   Size         191 non-null    float64\n",
      " 2   Bedroom      191 non-null    int64  \n",
      " 3   Bathroom     191 non-null    int64  \n",
      " 4   Floor        191 non-null    int64  \n",
      " 5   Car_Parking  191 non-null    object \n",
      " 6   Internet     191 non-null    object \n",
      " 7   Location     191 non-null    object \n",
      " 8   Pet          191 non-null    object \n",
      " 9   Event        191 non-null    object \n",
      "dtypes: float64(2), int64(3), object(5)\n",
      "memory usage: 15.1+ KB\n"
     ]
    }
   ],
   "source": [
    "df.info()"
   ]
  },
  {
   "cell_type": "code",
   "execution_count": 3,
   "metadata": {},
   "outputs": [],
   "source": [
    "from sklearn.utils import resample"
   ]
  },
  {
   "cell_type": "code",
   "execution_count": 4,
   "metadata": {},
   "outputs": [
    {
     "data": {
      "text/plain": [
       "Event\n",
       "Spa                   116\n",
       "Shows                  55\n",
       "Outdoor activities     20\n",
       "Name: count, dtype: int64"
      ]
     },
     "execution_count": 4,
     "metadata": {},
     "output_type": "execute_result"
    }
   ],
   "source": [
    "df_label = df[\"Event\"].value_counts()\n",
    "df_label"
   ]
  },
  {
   "cell_type": "code",
   "execution_count": 5,
   "metadata": {},
   "outputs": [],
   "source": [
    "df_spa = df.loc[df[\"Event\"] == \"Spa\",]\n",
    "df_shows = df.loc[df[\"Event\"] == \"Shows\",]\n",
    "df_outdoor = df.loc[df[\"Event\"] == \"Outdoor activities\",]"
   ]
  },
  {
   "cell_type": "code",
   "execution_count": 6,
   "metadata": {},
   "outputs": [],
   "source": [
    "df_shows_upsampled = resample(df_shows, replace=True, n_samples=df_label[\"Spa\"])\n",
    "df_outdoor_upsampled = resample(df_outdoor, replace=True, n_samples=df_label[\"Spa\"])"
   ]
  },
  {
   "cell_type": "code",
   "execution_count": 7,
   "metadata": {},
   "outputs": [],
   "source": [
    "df2 = pd.concat([df_spa, df_shows_upsampled], ignore_index=True)\n",
    "df2 = pd.concat([df2, df_outdoor_upsampled], ignore_index=True)"
   ]
  },
  {
   "cell_type": "code",
   "execution_count": 8,
   "metadata": {
    "scrolled": true
   },
   "outputs": [
    {
     "data": {
      "text/plain": [
       "Event\n",
       "Spa                   116\n",
       "Shows                 116\n",
       "Outdoor activities    116\n",
       "Name: count, dtype: int64"
      ]
     },
     "execution_count": 8,
     "metadata": {},
     "output_type": "execute_result"
    }
   ],
   "source": [
    "df2[\"Event\"].value_counts()"
   ]
  },
  {
   "cell_type": "code",
   "execution_count": 9,
   "metadata": {},
   "outputs": [
    {
     "name": "stdout",
     "output_type": "stream",
     "text": [
      "[[-1.08053762  0.34827273  0.01881522 ...  0.          0.\n",
      "   0.        ]\n",
      " [-0.18941657 -0.42777794  0.01881522 ...  0.          0.\n",
      "   0.        ]\n",
      " [-0.18941657 -0.55635438  0.01881522 ...  1.          0.\n",
      "   0.        ]\n",
      " ...\n",
      " [-0.45303988  0.44470506 -1.29072386 ...  0.          0.\n",
      "   0.        ]\n",
      " [-0.96914749 -0.50767901 -1.29072386 ...  0.          0.\n",
      "   0.        ]\n",
      " [-0.85775736 -0.87549947 -1.29072386 ...  1.          0.\n",
      "   0.        ]]\n",
      "[2 2 2 2 2 2 2 2 2 2 2 2 2 2 2 2 2 2 2 2 2 2 2 2 2 2 2 2 2 2 2 2 2 2 2 2 2\n",
      " 2 2 2 2 2 2 2 2 2 2 2 2 2 2 2 2 2 2 2 2 2 2 2 2 2 2 2 2 2 2 2 2 2 2 2 2 2\n",
      " 2 2 2 2 2 2 2 2 2 2 2 2 2 2 2 2 2 2 2 2 2 2 2 2 2 2 2 2 2 2 2 2 2 2 2 2 2\n",
      " 2 2 2 2 2 1 1 1 1 1 1 1 1 1 1 1 1 1 1 1 1 1 1 1 1 1 1 1 1 1 1 1 1 1 1 1 1\n",
      " 1 1 1 1 1 1 1 1 1 1 1 1 1 1 1 1 1 1 1 1 1 1 1 1 1 1 1 1 1 1 1 1 1 1 1 1 1\n",
      " 1 1 1 1 1 1 1 1 1 1 1 1 1 1 1 1 1 1 1 1 1 1 1 1 1 1 1 1 1 1 1 1 1 1 1 1 1\n",
      " 1 1 1 1 1 1 1 1 1 1 0 0 0 0 0 0 0 0 0 0 0 0 0 0 0 0 0 0 0 0 0 0 0 0 0 0 0\n",
      " 0 0 0 0 0 0 0 0 0 0 0 0 0 0 0 0 0 0 0 0 0 0 0 0 0 0 0 0 0 0 0 0 0 0 0 0 0\n",
      " 0 0 0 0 0 0 0 0 0 0 0 0 0 0 0 0 0 0 0 0 0 0 0 0 0 0 0 0 0 0 0 0 0 0 0 0 0\n",
      " 0 0 0 0 0 0 0 0 0 0 0 0 0 0 0]\n"
     ]
    }
   ],
   "source": [
    "from sklearn.preprocessing import StandardScaler\n",
    "from sklearn.preprocessing import LabelEncoder\n",
    "\n",
    "x = pd.get_dummies(df2.iloc[:, :-1], drop_first=True, dtype=\"int8\").to_numpy()\n",
    "x[:, :5] = StandardScaler().fit_transform(x[:, :5])\n",
    "print(x)\n",
    "y = LabelEncoder().fit_transform(df2[\"Event\"])\n",
    "print(y)"
   ]
  },
  {
   "cell_type": "code",
   "execution_count": 10,
   "metadata": {},
   "outputs": [],
   "source": [
    "random_seed_val = 100\n",
    "model_list = {}"
   ]
  },
  {
   "cell_type": "code",
   "execution_count": 11,
   "metadata": {},
   "outputs": [],
   "source": [
    "from sklearn.linear_model import LogisticRegression\n",
    "\n",
    "model_list[\"LR\"] = LogisticRegression(random_state=random_seed_val)"
   ]
  },
  {
   "cell_type": "code",
   "execution_count": 12,
   "metadata": {},
   "outputs": [],
   "source": [
    "from sklearn.neural_network import MLPClassifier\n",
    "\n",
    "model_list[\"MLP\"] = MLPClassifier(\n",
    "    random_state=random_seed_val, activation=\"logistic\", max_iter=10000\n",
    ")"
   ]
  },
  {
   "cell_type": "code",
   "execution_count": 13,
   "metadata": {},
   "outputs": [],
   "source": [
    "from sklearn.tree import DecisionTreeClassifier\n",
    "\n",
    "model_list[\"DT (CART)\"] = DecisionTreeClassifier(\n",
    "    criterion=\"gini\", random_state=random_seed_val\n",
    ")"
   ]
  },
  {
   "cell_type": "code",
   "execution_count": 14,
   "metadata": {},
   "outputs": [],
   "source": [
    "from sklearn.ensemble import RandomForestClassifier\n",
    "\n",
    "model_list[\"RF\"] = RandomForestClassifier(\n",
    "    criterion=\"entropy\", random_state=random_seed_val\n",
    ")"
   ]
  },
  {
   "cell_type": "code",
   "execution_count": 15,
   "metadata": {},
   "outputs": [],
   "source": [
    "from sklearn.ensemble import AdaBoostClassifier\n",
    "\n",
    "model_list[\"AB\"] = AdaBoostClassifier(random_state=random_seed_val)"
   ]
  },
  {
   "cell_type": "code",
   "execution_count": 16,
   "metadata": {},
   "outputs": [],
   "source": [
    "from sklearn.svm import SVC\n",
    "\n",
    "model_list[\"SVM (Linear)\"] = SVC(gamma=\"auto\", kernel=\"linear\")\n",
    "\n",
    "model_list[\"SVM (RBF)\"] = SVC(gamma=\"auto\", kernel=\"rbf\")\n",
    "\n",
    "model_list[\"SVM (Poly)\"] = SVC(gamma=\"auto\", kernel=\"poly\")"
   ]
  },
  {
   "cell_type": "code",
   "execution_count": 17,
   "metadata": {},
   "outputs": [],
   "source": [
    "from mixed_naive_bayes import MixedNB\n",
    "\n",
    "model_list[\"MNB\"] = MixedNB(categorical_features=list(range(5, 11)))"
   ]
  },
  {
   "cell_type": "code",
   "execution_count": 18,
   "metadata": {},
   "outputs": [],
   "source": [
    "from sklearn import neighbors\n",
    "\n",
    "model_list[\"KNN\"] = neighbors.KNeighborsClassifier(\n",
    "    n_neighbors=5, p=2, metric=\"minkowski\", weights=\"uniform\", algorithm=\"auto\"\n",
    ")"
   ]
  },
  {
   "cell_type": "code",
   "execution_count": 19,
   "metadata": {},
   "outputs": [
    {
     "name": "stdout",
     "output_type": "stream",
     "text": [
      "LR\n",
      "MLP\n",
      "DT (CART)\n",
      "RF\n",
      "AB\n",
      "SVM (Linear)\n",
      "SVM (RBF)\n",
      "SVM (Poly)\n",
      "MNB\n",
      "KNN\n"
     ]
    }
   ],
   "source": [
    "from sklearn.model_selection import cross_val_score\n",
    "import numpy as np\n",
    "\n",
    "k_fold = 5\n",
    "results_cv = {}\n",
    "for algo in model_list.keys():\n",
    "    print(algo)\n",
    "    results_cv[algo] = np.mean(cross_val_score(model_list[algo], x, y, cv=k_fold))"
   ]
  },
  {
   "cell_type": "code",
   "execution_count": 20,
   "metadata": {},
   "outputs": [
    {
     "data": {
      "text/plain": [
       "{'LR': np.float64(0.9224844720496893),\n",
       " 'MLP': np.float64(0.9454658385093169),\n",
       " 'DT (CART)': np.float64(0.9913871635610766),\n",
       " 'RF': np.float64(0.9856314699792961),\n",
       " 'AB': np.float64(0.5409523809523809),\n",
       " 'SVM (Linear)': np.float64(0.9282815734989647),\n",
       " 'SVM (RBF)': np.float64(0.9052173913043479),\n",
       " 'SVM (Poly)': np.float64(0.7787163561076603),\n",
       " 'MNB': np.float64(0.5939544513457558),\n",
       " 'KNN': np.float64(0.8307246376811595)}"
      ]
     },
     "execution_count": 20,
     "metadata": {},
     "output_type": "execute_result"
    }
   ],
   "source": [
    "results_cv"
   ]
  },
  {
   "cell_type": "code",
   "execution_count": null,
   "metadata": {},
   "outputs": [],
   "source": [
    "import matplotlib.pyplot as plt\n",
    "\n",
    "%matplotlib inline\n",
    "import seaborn as sns\n",
    "\n",
    "sns.set_style(\"whitegrid\")\n",
    "\n",
    "x_plot = [x for y, x in sorted(zip(results_cv.values(), results_cv.keys()))]\n",
    "y_plot = [y for y, x in sorted(zip(results_cv.values(), results_cv.keys()))]\n",
    "x_pos = [i for i, _ in enumerate(x_plot)]\n",
    "\n",
    "plt.barh(x_pos, y_plot, color=\"royalblue\")\n",
    "plt.ylabel(\"Model\")\n",
    "plt.xlabel(\"Accuracy\")\n",
    "plt.title(\"Model performance (CV=5)\")\n",
    "\n",
    "plt.yticks(x_pos, x_plot)\n",
    "plt.show()"
   ]
  }
 ],
 "metadata": {
  "hide_input": false,
  "kernelspec": {
   "display_name": "Python 3 (ipykernel)",
   "language": "python",
   "name": "python3"
  },
  "language_info": {
   "codemirror_mode": {
    "name": "ipython",
    "version": 3
   },
   "file_extension": ".py",
   "mimetype": "text/x-python",
   "name": "python",
   "nbconvert_exporter": "python",
   "pygments_lexer": "ipython3",
   "version": "3.13.5"
  },
  "toc": {
   "base_numbering": 1,
   "nav_menu": {
    "height": "241px",
    "width": "258px"
   },
   "number_sections": true,
   "sideBar": true,
   "skip_h1_title": true,
   "title_cell": "Table of Contents",
   "title_sidebar": "Contents",
   "toc_cell": false,
   "toc_position": {
    "height": "941.111px",
    "left": "56px",
    "top": "110.28px",
    "width": "269px"
   },
   "toc_section_display": true,
   "toc_window_display": true
  },
  "varInspector": {
   "cols": {
    "lenName": 16,
    "lenType": 16,
    "lenVar": 40
   },
   "kernels_config": {
    "python": {
     "delete_cmd_postfix": "",
     "delete_cmd_prefix": "del ",
     "library": "var_list.py",
     "varRefreshCmd": "print(var_dic_list())"
    },
    "r": {
     "delete_cmd_postfix": ") ",
     "delete_cmd_prefix": "rm(",
     "library": "var_list.r",
     "varRefreshCmd": "cat(var_dic_list()) "
    }
   },
   "position": {
    "height": "262px",
    "left": "1048px",
    "right": "20px",
    "top": "165px",
    "width": "370px"
   },
   "types_to_exclude": [
    "module",
    "function",
    "builtin_function_or_method",
    "instance",
    "_Feature"
   ],
   "window_display": false
  },
  "vscode": {
   "interpreter": {
    "hash": "40d3a090f54c6569ab1632332b64b2c03c39dcf918b08424e98f38b5ae0af88f"
   }
  }
 },
 "nbformat": 4,
 "nbformat_minor": 4
}
